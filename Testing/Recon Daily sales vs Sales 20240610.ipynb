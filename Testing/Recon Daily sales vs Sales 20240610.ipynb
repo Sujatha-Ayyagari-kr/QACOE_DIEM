{
 "cells": [
  {
   "cell_type": "code",
   "execution_count": 0,
   "metadata": {
    "application/vnd.databricks.v1+cell": {
     "cellMetadata": {
      "byteLimit": 2048000,
      "rowLimit": 10000
     },
     "inputWidgets": {},
     "nuid": "38202016-f019-4d15-a70a-20fd07a733af",
     "showTitle": false,
     "title": ""
    }
   },
   "outputs": [],
   "source": [
    "%fs ls /mnt/dsa/raw/dsa/daily_sales_aggregate/v2/load_date=2024-06-11/2024-06-11/"
   ]
  },
  {
   "cell_type": "code",
   "execution_count": 0,
   "metadata": {
    "application/vnd.databricks.v1+cell": {
     "cellMetadata": {
      "byteLimit": 2048000,
      "rowLimit": 10000
     },
     "inputWidgets": {},
     "nuid": "40b02f60-1e75-42d4-82c6-5d91289d95f2",
     "showTitle": false,
     "title": ""
    }
   },
   "outputs": [],
   "source": [
    "%fs ls /mnt/gold/release/daily_sales/2024_06_11/csv/"
   ]
  },
  {
   "cell_type": "code",
   "execution_count": 0,
   "metadata": {
    "application/vnd.databricks.v1+cell": {
     "cellMetadata": {
      "byteLimit": 2048000,
      "rowLimit": 10000
     },
     "inputWidgets": {},
     "nuid": "1ea82855-184e-433c-82d2-fd23502cd1fe",
     "showTitle": false,
     "title": ""
    }
   },
   "outputs": [],
   "source": [
    "%fs ls /mnt/gold/release_blue/sales/2024_06_11/csv/"
   ]
  },
  {
   "cell_type": "code",
   "execution_count": 0,
   "metadata": {
    "application/vnd.databricks.v1+cell": {
     "cellMetadata": {
      "byteLimit": 2048000,
      "rowLimit": 10000
     },
     "inputWidgets": {},
     "nuid": "d2bf81ba-d846-4dde-8cc4-432bc5b5d9f8",
     "showTitle": false,
     "title": ""
    }
   },
   "outputs": [],
   "source": [
    "dfo= spark.read.csv(\"/mnt/gold/release/daily_sales/2024_06_06/csv/101_Daily_Sales.540.20240606061502.csv\",header=True)\n",
    "dfo.createOrReplaceTempView(\"oldfile\")"
   ]
  },
  {
   "cell_type": "code",
   "execution_count": 0,
   "metadata": {
    "application/vnd.databricks.v1+cell": {
     "cellMetadata": {
      "byteLimit": 2048000,
      "rowLimit": 10000
     },
     "inputWidgets": {},
     "nuid": "19b93a8d-838a-4714-9cc9-3b84112e7113",
     "showTitle": false,
     "title": ""
    }
   },
   "outputs": [],
   "source": [
    "dfn= spark.read.csv(\"/mnt/gold/release_blue/sales/2024_06_06/csv/101_Daily_Sales.540.20240606061502.csv\",header=True)\n",
    "dfn.createOrReplaceTempView(\"newfile\")\n"
   ]
  },
  {
   "cell_type": "code",
   "execution_count": 0,
   "metadata": {
    "application/vnd.databricks.v1+cell": {
     "cellMetadata": {
      "byteLimit": 2048000,
      "implicitDf": true,
      "rowLimit": 10000
     },
     "inputWidgets": {},
     "nuid": "7fb2d9cc-4e75-4379-9765-deeb18e3c896",
     "showTitle": false,
     "title": ""
    }
   },
   "outputs": [],
   "source": [
    "%sql select 'old', count(1) from oldfile\n",
    "union all select 'new', count(1) from newfile"
   ]
  },
  {
   "cell_type": "code",
   "execution_count": 0,
   "metadata": {
    "application/vnd.databricks.v1+cell": {
     "cellMetadata": {
      "byteLimit": 2048000,
      "implicitDf": true,
      "rowLimit": 10000
     },
     "inputWidgets": {},
     "nuid": "f1bd37de-3f95-4104-85f5-c055fcefb719",
     "showTitle": false,
     "title": ""
    }
   },
   "outputs": [],
   "source": [
    "%sql select * from oldfile\n",
    "minus select * from newfile"
   ]
  },
  {
   "cell_type": "code",
   "execution_count": 0,
   "metadata": {
    "application/vnd.databricks.v1+cell": {
     "cellMetadata": {
      "byteLimit": 2048000,
      "implicitDf": true,
      "rowLimit": 10000
     },
     "inputWidgets": {},
     "nuid": "e95dd005-5f37-4b81-a3d2-d1018de083b1",
     "showTitle": false,
     "title": ""
    }
   },
   "outputs": [],
   "source": [
    "%sql select  DIV,STORE,ITEM_CONSUMER_UPC,POS_DATE,cast(POS_NET_DOL_AMOUNT as decimal(8,3)),cast(POS_UOM_QTY as decimal(18,3)), POS_UNITS from newfile \n",
    "minus select   DIV,STORE,ITEM_CONSUMER_UPC,POS_DATE,cast(POS_NET_DOL_AMOUNT as decimal(8,3)),cast(POS_UOM_QTY as decimal(18,3)), POS_UNITS from oldfile  "
   ]
  },
  {
   "cell_type": "code",
   "execution_count": 0,
   "metadata": {
    "application/vnd.databricks.v1+cell": {
     "cellMetadata": {
      "byteLimit": 2048000,
      "implicitDf": true,
      "rowLimit": 10000
     },
     "inputWidgets": {},
     "nuid": "f0bca840-e580-455f-a79b-4e2fbb5b4941",
     "showTitle": false,
     "title": ""
    }
   },
   "outputs": [],
   "source": [
    "%sql select DIV,STORE,ITEM_CONSUMER_UPC,sum(cast(POS_NET_DOL_AMOUNT as decimal(8,2))),sum(cast(POS_UOM_QTY as decimal(18,3))), sum(POS_UNITS) from oldfile group by DIV,STORE,ITEM_CONSUMER_UPC\n",
    "minus select DIV,STORE,ITEM_CONSUMER_UPC,sum(cast(POS_NET_DOL_AMOUNT as decimal(8,2))),sum(cast(POS_UOM_QTY as decimal(18,3))), sum(POS_UNITS) from newfile group by DIV,STORE,ITEM_CONSUMER_UPC"
   ]
  },
  {
   "cell_type": "code",
   "execution_count": 0,
   "metadata": {
    "application/vnd.databricks.v1+cell": {
     "cellMetadata": {
      "byteLimit": 2048000,
      "implicitDf": true,
      "rowLimit": 10000
     },
     "inputWidgets": {},
     "nuid": "e936c45f-5d4a-4025-b15f-02aa1f1c06f6",
     "showTitle": false,
     "title": ""
    }
   },
   "outputs": [],
   "source": [
    "%sql select 'new', DIV,STORE,ITEM_CONSUMER_UPC,POS_DATE,sum(cast(POS_NET_DOL_AMOUNT as decimal(8,3))),sum(cast(POS_UOM_QTY as decimal(18,3))), sum(POS_UNITS) from newfile group by DIV,STORE,ITEM_CONSUMER_UPC,POS_DATE\n",
    "union all select  'old', DIV,STORE,ITEM_CONSUMER_UPC,POS_DATE,sum(cast(POS_NET_DOL_AMOUNT as decimal(8,3))),sum(cast(POS_UOM_QTY as decimal(18,3))), sum(POS_UNITS) from oldfile  group by DIV,STORE,ITEM_CONSUMER_UPC,POS_DATE\n",
    "order by store"
   ]
  }
 ],
 "metadata": {
  "application/vnd.databricks.v1+notebook": {
   "dashboards": [],
   "environmentMetadata": null,
   "language": "python",
   "notebookMetadata": {
    "mostRecentlyExecutedCommandWithImplicitDF": {
     "commandId": 1229519520215340,
     "dataframes": [
      "_sqldf"
     ]
    },
    "pythonIndentUnit": 4
   },
   "notebookName": "Recon Daily sales vs Sales 20240610",
   "widgets": {}
  }
 },
 "nbformat": 4,
 "nbformat_minor": 0
}
